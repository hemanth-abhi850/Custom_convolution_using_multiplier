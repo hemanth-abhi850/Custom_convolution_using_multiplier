{
  "cells": [
    {
      "cell_type": "markdown",
      "metadata": {
        "id": "view-in-github",
        "colab_type": "text"
      },
      "source": [
        "<a href=\"https://colab.research.google.com/github/hemanth-abhi850/Custom_convolution_using_multiplier/blob/main/Sumit_CNN_approx_Mult_TEST.ipynb\" target=\"_parent\"><img src=\"https://colab.research.google.com/assets/colab-badge.svg\" alt=\"Open In Colab\"/></a>"
      ]
    },
    {
      "cell_type": "code",
      "execution_count": null,
      "metadata": {
        "id": "Ra6oATpNONhY"
      },
      "outputs": [],
      "source": [
        "import tensorflow as tf\n",
        "from tensorflow import keras\n",
        "from tensorflow.keras import datasets, layers, models\n",
        "import matplotlib.pyplot as plt\n",
        "%matplotlib inline\n",
        "import numpy as np"
      ]
    },
    {
      "cell_type": "code",
      "execution_count": null,
      "metadata": {
        "id": "_m3o6ivVOTXd"
      },
      "outputs": [],
      "source": [
        "(X_train, y_train) , (X_test, y_test) = keras.datasets.mnist.load_data()"
      ]
    },
    {
      "cell_type": "code",
      "execution_count": null,
      "metadata": {
        "id": "E23ePptzOeK8"
      },
      "outputs": [],
      "source": [
        "# Limit to the first N samples (e.g., 10,000)\n",
        "N = 60000 #training\n",
        "M = 10000 #testing\n",
        "X_train = X_train[:N]\n",
        "y_train = y_train[:N]\n",
        "\n",
        "X_test, y_test = X_test[:M], y_test[:M]"
      ]
    },
    {
      "cell_type": "code",
      "execution_count": null,
      "metadata": {
        "colab": {
          "base_uri": "https://localhost:8080/"
        },
        "id": "axEKulI_Og_9",
        "outputId": "9a05ef34-8a57-48f2-de3d-8cb3ab733434"
      },
      "outputs": [
        {
          "data": {
            "text/plain": [
              "(60000, 28, 28)"
            ]
          },
          "execution_count": 136,
          "metadata": {},
          "output_type": "execute_result"
        }
      ],
      "source": [
        "X_train.shape"
      ]
    },
    {
      "cell_type": "code",
      "execution_count": null,
      "metadata": {
        "colab": {
          "base_uri": "https://localhost:8080/"
        },
        "id": "TDFOk0pxOjYV",
        "outputId": "7a433adb-ddb0-4b9c-e9cf-12fb994140b3"
      },
      "outputs": [
        {
          "data": {
            "text/plain": [
              "(10000, 28, 28)"
            ]
          },
          "execution_count": 137,
          "metadata": {},
          "output_type": "execute_result"
        }
      ],
      "source": [
        "X_test.shape"
      ]
    },
    {
      "cell_type": "code",
      "execution_count": null,
      "metadata": {
        "colab": {
          "base_uri": "https://localhost:8080/",
          "height": 455
        },
        "id": "2-z6TcfsOnQV",
        "outputId": "8fd68fbe-574e-4c37-cbe0-84df762393dc"
      },
      "outputs": [
        {
          "data": {
            "text/plain": [
              "np.uint8(2)"
            ]
          },
          "execution_count": 138,
          "metadata": {},
          "output_type": "execute_result"
        },
        {
          "data": {
            "image/png": "[encoded data removed]",
            "text/plain": [
              "<Figure size 480x480 with 1 Axes>"
            ]
          },
          "metadata": {},
          "output_type": "display_data"
        }
      ],
      "source": [
        "test = 122\n",
        "plt.matshow(X_train[test])\n",
        "y_train[test]"
      ]
    },
    {
      "cell_type": "code",
      "execution_count": null,
      "metadata": {
        "colab": {
          "base_uri": "https://localhost:8080/"
        },
        "id": "PzXXdymshCRT",
        "outputId": "a9f3e43a-23ba-47e3-dec9-46f789aafc43"
      },
      "outputs": [
        {
          "name": "stdout",
          "output_type": "stream",
          "text": [
            "Epoch 1/5\n",
            "\u001b[1m1875/1875\u001b[0m \u001b[32m━━━━━━━━━━━━━━━━━━━━\u001b[0m\u001b[37m\u001b[0m \u001b[1m44s\u001b[0m 23ms/step - accuracy: 0.8546 - loss: 1.9476 - val_accuracy: 0.9721 - val_loss: 0.1009\n",
            "Epoch 2/5\n",
            "\u001b[1m1875/1875\u001b[0m \u001b[32m━━━━━━━━━━━━━━━━━━━━\u001b[0m\u001b[37m\u001b[0m \u001b[1m46s\u001b[0m 24ms/step - accuracy: 0.9771 - loss: 0.0789 - val_accuracy: 0.9729 - val_loss: 0.0916\n",
            "Epoch 3/5\n",
            "\u001b[1m1875/1875\u001b[0m \u001b[32m━━━━━━━━━━━━━━━━━━━━\u001b[0m\u001b[37m\u001b[0m \u001b[1m44s\u001b[0m 23ms/step - accuracy: 0.9825 - loss: 0.0582 - val_accuracy: 0.9737 - val_loss: 0.1016\n",
            "Epoch 4/5\n",
            "\u001b[1m1875/1875\u001b[0m \u001b[32m━━━━━━━━━━━━━━━━━━━━\u001b[0m\u001b[37m\u001b[0m \u001b[1m82s\u001b[0m 23ms/step - accuracy: 0.9859 - loss: 0.0446 - val_accuracy: 0.9785 - val_loss: 0.0831\n",
            "Epoch 5/5\n",
            "\u001b[1m1875/1875\u001b[0m \u001b[32m━━━━━━━━━━━━━━━━━━━━\u001b[0m\u001b[37m\u001b[0m \u001b[1m83s\u001b[0m 24ms/step - accuracy: 0.9897 - loss: 0.0332 - val_accuracy: 0.9776 - val_loss: 0.0942\n",
            "\u001b[1m313/313\u001b[0m \u001b[32m━━━━━━━━━━━━━━━━━━━━\u001b[0m\u001b[37m\u001b[0m \u001b[1m2s\u001b[0m 7ms/step - accuracy: 0.9737 - loss: 0.1064\n",
            "Test Accuracy: 97.76%\n"
          ]
        }
      ],
      "source": [
        "model = keras.Sequential([\n",
        "    layers.Conv2D(32, (3, 3), activation='relu', input_shape=(28, 28, 1)),\n",
        "    layers.MaxPooling2D(2, 2),\n",
        "    layers.Flatten(),\n",
        "    layers.Dense(128, activation='relu'),\n",
        "    layers.Dense(10, activation='softmax')\n",
        "])\n",
        "\n",
        "model.compile(optimizer='adam',\n",
        "              loss='sparse_categorical_crossentropy',\n",
        "              metrics=['accuracy'])\n",
        "\n",
        "history = model.fit(X_train, y_train, epochs=5, validation_data=(X_test, y_test))\n",
        "\n",
        "test_loss, test_acc = model.evaluate(X_test, y_test)\n",
        "print(f'Test Accuracy: {test_acc * 100:.2f}%')\n"
      ]
    },
    {
      "cell_type": "code",
      "execution_count": null,
      "metadata": {
        "colab": {
          "base_uri": "https://localhost:8080/",
          "height": 484
        },
        "id": "i3cJ1dx2OyiU",
        "outputId": "fc01b99e-596d-4013-e285-aac68a7c7187"
      },
      "outputs": [
        {
          "data": {
            "image/png": "[encoded data removed]",
            "text/plain": [
              "<Figure size 640x480 with 1 Axes>"
            ]
          },
          "metadata": {},
          "output_type": "display_data"
        },
        {
          "name": "stdout",
          "output_type": "stream",
          "text": [
            "\u001b[1m1/1\u001b[0m \u001b[32m━━━━━━━━━━━━━━━━━━━━\u001b[0m\u001b[37m\u001b[0m \u001b[1m0s\u001b[0m 52ms/step\n",
            "Predicted Digit: 4\n",
            "Actual Label: 4\n"
          ]
        }
      ],
      "source": [
        "test_img_value = 210\n",
        "image = X_test[test_img_value]\n",
        "\n",
        "# Display the selected image\n",
        "plt.imshow(image.squeeze(), cmap='gray')\n",
        "plt.show()\n",
        "\n",
        "# Reshape the image for prediction (CNN expects batch dimension)\n",
        "image = image.reshape(1, 28, 28, 1)  # Add batch dimension\n",
        "\n",
        "# Predict the class\n",
        "predicted_label = model.predict(image)\n",
        "predicted_digit = np.argmax(predicted_label)  # Get the class with highest probability\n",
        "\n",
        "print(f\"Predicted Digit: {predicted_digit}\")\n",
        "print(f\"Actual Label: {y_test[test_img_value]}\")\n"
      ]
    },
    {
      "cell_type": "markdown",
      "metadata": {
        "id": "fjVlV3jQOXWU"
      },
      "source": [
        "Approximate Mutliplier"
      ]
    },
    {
      "cell_type": "code",
      "execution_count": null,
      "metadata": {
        "id": "LeijT7gAQ-c-"
      },
      "outputs": [],
      "source": [
        "def Exact_FA(a, b, cin):\n",
        "    # Sum = A ⊕ B ⊕ Cin\n",
        "    sum_ = a ^ b ^ cin\n",
        "    # Carry = (A & B) | (Cin & (A ^ B))\n",
        "    carry = (a & b) | (cin & (a ^ b))\n",
        "    return sum_, carry\n",
        "\n",
        "def approx_FA(a, b, cin):\n",
        "\n",
        "\n",
        "    # #Design4\n",
        "    # sum_ = b | cin\n",
        "    # carry = a\n",
        "    # return sum_, carry\n",
        "\n",
        "    # #Design1\n",
        "    # sum_ = (~a) & (b | cin)\n",
        "    # carry = a\n",
        "    # return sum_, carry\n",
        "\n",
        "    # #Design1\n",
        "    # sum_ = ((~a) & cin) | b\n",
        "    # carry = a\n",
        "    # return sum_, carry\n",
        "\n",
        "    # #Design3\n",
        "    # sum_ = a | b\n",
        "    # carry = a\n",
        "    # return sum_, carry\n",
        "\n",
        "\n",
        "    #Design3\n",
        "    sum_ = ~(~(a | b)|cin)\n",
        "    carry = a\n",
        "    return sum_, carry\n",
        "\n",
        "\n",
        "\n",
        "def eight_bit_rca(a, b):\n",
        "    s0, c0 = approx_FA((a >> 0) & 1, (b >> 0) & 1, 0)\n",
        "    s1, c1 = approx_FA((a >> 1) & 1, (b >> 1) & 1, c0)\n",
        "    s2, c2 = approx_FA((a >> 2) & 1, (b >> 2) & 1, c1)\n",
        "    s3, c3 = approx_FA((a >> 3) & 1, (b >> 3) & 1, c2)\n",
        "    s4, c4 = Exact_FA((a >> 4) & 1, (b >> 4) & 1, c3)\n",
        "    s5, c5 = Exact_FA((a >> 5) & 1, (b >> 5) & 1, c4)\n",
        "    s6, c6 = Exact_FA((a >> 6) & 1, (b >> 6) & 1, c5)\n",
        "    s7, c7 = Exact_FA((a >> 7) & 1, (b >> 7) & 1, c6)\n",
        "    s8 = c7  # 9th bit (carry out)\n",
        "\n",
        "    result = (s8 << 8) | (s7 << 7) | (s6 << 6) | (s5 << 5) | (s4 << 4) | (s3 << 3) | (s2 << 2) | (s1 << 1) | s0\n",
        "    return result  # 9-bit result\n",
        "\n",
        "\n",
        "\n",
        "\n",
        "\n",
        "\n",
        "\n",
        "\n",
        "\n",
        "#LOG Encoder\n",
        "\n",
        "def log_enc(A: int) -> int:\n",
        "    if not (0 <= A < 256):\n",
        "        raise ValueError(\"A must be an 8-bit integer (0-255).\")\n",
        "\n",
        "    # Encoding X based on leading 1 detection\n",
        "    if A & 0b10000000:\n",
        "        X = 0b111\n",
        "    elif A & 0b01000000:\n",
        "        X = 0b110\n",
        "    elif A & 0b00100000:\n",
        "        X = 0b101\n",
        "    elif A & 0b00010000:\n",
        "        X = 0b100\n",
        "    elif A & 0b00001000:\n",
        "        X = 0b011\n",
        "    elif A & 0b00000100:\n",
        "        X = 0b010\n",
        "    elif A & 0b00000010:\n",
        "        X = 0b001\n",
        "    elif A & 0b00000001:\n",
        "        X = 0b000\n",
        "    else:\n",
        "        X = 0b000  # Default case\n",
        "\n",
        "    # Calculating Y values\n",
        "    A_bits = [(A >> i) & 1 for i in range(8)]  # Extracting bits as list\n",
        "\n",
        "    Y0 = A_bits[1]  # Always 0\n",
        "    Y1 = 0\n",
        "    Y2 = 0\n",
        "    Y3 = 1\n",
        "\n",
        "    Y = (Y3 << 3) | (Y2 << 2) | (Y1 << 1) | Y0  # Combining Y bits\n",
        "    B = (X << 4) | Y  # Final 7-bit output\n",
        "\n",
        "    return B\n",
        "\n",
        "# ANTILOG Encoder\n",
        "\n",
        "def antilog_enc(A: int) -> int:\n",
        "    if not (0 <= A < 256):\n",
        "        raise ValueError(\"A must be an 8-bit integer (0-255).\")\n",
        "\n",
        "    # Encoding X based on the value of A[7:4]\n",
        "    X = 1 << (A >> 4 & 0xF)  # Shift '1' to the position of A[7:4]\n",
        "\n",
        "    # Extracting bits from A for Y calculation (A[7] to A[0])\n",
        "    A_bits = [(A >> i) & 1 for i in range(8)]  # Extracting bits as list\n",
        "\n",
        "    # Calculating Y values based on bitwise operations (same as Verilog code)\n",
        "    Y = [0] * 16\n",
        "    Y[0] = 1\n",
        "    Y[1] = A_bits[1]\n",
        "    Y[2] = A_bits[1]\n",
        "    Y[3] = A_bits[1]\n",
        "\n",
        "    Y[4] = A_bits[1]\n",
        "    Y[5] = 0\n",
        "    Y[6] = 0\n",
        "    Y[7] = 0\n",
        "\n",
        "    Y[8] = A_bits[1]\n",
        "    Y[9] = 0\n",
        "    Y[10] = 0\n",
        "    Y[11] = 0\n",
        "\n",
        "    Y[12] = 0\n",
        "    Y[13] = 0\n",
        "    Y[14] = 0\n",
        "    Y[15] = 0\n",
        "\n",
        "\n",
        "    # Convert Y from list to integer representation\n",
        "    Y_int = sum(Y[i] << i for i in range(16))\n",
        "\n",
        "    # Perform bitwise OR operation\n",
        "    B = X | Y_int\n",
        "\n",
        "    return B\n",
        "\n",
        "\n",
        "# Approximate Multiplier\n",
        "\n",
        "def Approx_mult(A, B):\n",
        "    # Call log_ENC for A and B to get R and S (assuming log_enc returns integers)\n",
        "    R = log_enc(A)\n",
        "    S = log_enc(B)\n",
        "\n",
        "    # Calculate T = R + S (Since R and S are integers, we just add them)\n",
        "    # T = R + S\n",
        "    T = eight_bit_rca(R,S)\n",
        "    # Call antilog_ENC with T to get the approximate output\n",
        "    Out = antilog_enc(T)\n",
        "\n",
        "    # Exact multiplication (This will be a 16-bit output)\n",
        "    #Exact_out = A * B\n",
        "\n",
        "    #return Out, Exact_out\n",
        "    return Out\n",
        "\n"
      ]
    },
    {
      "cell_type": "code",
      "execution_count": null,
      "metadata": {
        "colab": {
          "base_uri": "https://localhost:8080/"
        },
        "id": "IHYOEXbERKUN",
        "outputId": "0af4a264-86b0-452a-c585-a579d57805ba"
      },
      "outputs": [
        {
          "data": {
            "text/plain": [
              "4097"
            ]
          },
          "execution_count": 149,
          "metadata": {},
          "output_type": "execute_result"
        }
      ],
      "source": [
        "Approx_mult(205,25)"
      ]
    },
    {
      "cell_type": "code",
      "execution_count": null,
      "metadata": {
        "id": "enDoJIDyPKUM"
      },
      "outputs": [],
      "source": [
        "from numba import njit\n",
        "from numba import jit"
      ]
    },
    {
      "cell_type": "code",
      "execution_count": null,
      "metadata": {
        "id": "wXxP6V-VPSGU"
      },
      "outputs": [],
      "source": [
        "\n",
        "def convolution_loops(image, filter, output_image, step):\n",
        "    output_height, output_width = output_image.shape\n",
        "\n",
        "    for i in range(0, output_height, step):\n",
        "        for j in range(0, output_width, step):\n",
        "            patch_from_image = image[i:i+filter.shape[0], j:j+filter.shape[1]]\n",
        "\n",
        "            # Manual element-wise multiplication\n",
        "            element_wise_result = np.zeros_like(patch_from_image)\n",
        "            for m in range(filter.shape[0]):\n",
        "                for n in range(filter.shape[1]):\n",
        "                    # element_wise_result[m, n] = patch_from_image[m, n] * filter[m, n]\n",
        "                    # element_wise_result[m, n] = Binary_Multiply8_half_approx(int(patch_from_image[m, n]), int(filter[m, n]))\n",
        "                    element_wise_result[m, n] = Approx_mult(int(patch_from_image[m, n]), int(filter[m, n]))\n",
        "\n",
        "            # Summing the element-wise multiplied values\n",
        "            output_image[i, j] = np.sum(element_wise_result)\n",
        "\n",
        "    return output_image"
      ]
    },
    {
      "cell_type": "code",
      "execution_count": null,
      "metadata": {
        "id": "tJsVaOgqPNGs"
      },
      "outputs": [],
      "source": [
        "def convolution_2d(image, filter, pad=0, step=1):\n",
        "    # Ensure image and filter are NumPy arrays\n",
        "    if isinstance(image, tf.Tensor):\n",
        "        image = image.numpy()\n",
        "    if isinstance(filter, tf.Tensor):\n",
        "        filter = filter.numpy()\n",
        "\n",
        "    # Compute output dimensions\n",
        "    output_height = (image.shape[0] - filter.shape[0]) // step + 1\n",
        "    output_width = (image.shape[1] - filter.shape[1]) // step + 1\n",
        "\n",
        "    # Initialize output image\n",
        "    output_image = np.zeros((output_height, output_width))\n",
        "\n",
        "    # Call the optimized function\n",
        "    output_image = convolution_loops(image, filter, output_image, step)\n",
        "\n",
        "    return output_image"
      ]
    },
    {
      "cell_type": "code",
      "execution_count": null,
      "metadata": {
        "id": "Rh0TdX2NPQZU"
      },
      "outputs": [],
      "source": [
        "\n",
        "\n",
        "# Optimized CNN Layer Function\n",
        "def cnn_layer(image_volume, filter, pad=1, step=1):\n",
        "    k_size = filter.shape[1]  # Kernel size\n",
        "    n_filters = filter.shape[0]  # Number of filters\n",
        "\n",
        "    # Compute output dimensions\n",
        "    width_out = (image_volume.shape[0] - k_size + 2 * pad) // step + 1\n",
        "    height_out = (image_volume.shape[1] - k_size + 2 * pad) // step + 1\n",
        "\n",
        "    # Ensure correct padding\n",
        "    image_padded = np.pad(image_volume, ((pad, pad), (pad, pad), (0, 0)), mode='constant')\n",
        "\n",
        "    # Prepare output feature maps\n",
        "    feature_maps = np.zeros((width_out, height_out, n_filters))\n",
        "\n",
        "    # Apply convolution across filters\n",
        "    for i in range(n_filters):\n",
        "        convolved_image = np.sum(\n",
        "            [\n",
        "                convolution_2d(image_padded[:, :, j], filter[i, :, :, j], pad=0, step=step)\n",
        "                for j in range(image_volume.shape[-1])\n",
        "            ],\n",
        "            axis=0\n",
        "        )\n",
        "\n",
        "        # Ensure the output shape matches expected shape\n",
        "        feature_maps[:, :, i] = convolved_image[:width_out, :height_out]  # Trim excess padding\n",
        "\n",
        "    return feature_maps\n",
        "\n"
      ]
    },
    {
      "cell_type": "code",
      "execution_count": null,
      "metadata": {
        "id": "bw_LVSScPY8s"
      },
      "outputs": [],
      "source": [
        "class CustomConv2D(layers.Layer):\n",
        "    def __init__(self, filters, kernel_size, strides=1, padding=1, predefined_kernel=None, **kwargs):\n",
        "        super(CustomConv2D, self).__init__(**kwargs)\n",
        "        self.filters = filters\n",
        "        self.kernel_size = kernel_size\n",
        "        self.strides = strides\n",
        "        self.padding = padding\n",
        "        self.predefined_kernel = predefined_kernel  # New parameter\n",
        "\n",
        "    def build(self, input_shape):\n",
        "        # Initialize trainable filters (compatible with NumPy-based function)\n",
        "        if self.predefined_kernel is not None:\n",
        "            # Convert to NumPy if it's a Tensor\n",
        "            if isinstance(self.predefined_kernel, tf.Tensor):\n",
        "                self.predefined_kernel = self.predefined_kernel.numpy()\n",
        "            kernel_initializer = tf.constant_initializer(self.predefined_kernel)\n",
        "        else:\n",
        "            kernel_initializer = \"glorot_uniform\"\n",
        "\n",
        "        self.kernel = self.add_weight(\n",
        "            shape=(self.filters, self.kernel_size, self.kernel_size, input_shape[-1]),\n",
        "            initializer=kernel_initializer,\n",
        "            trainable=True,\n",
        "        )\n",
        "\n",
        "    def call(self, inputs):\n",
        "        def numpy_convolution(inputs_np, kernel_np):\n",
        "            \"\"\" Wrapper function to apply NumPy convolution per batch \"\"\"\n",
        "            batch_size = inputs_np.shape[0]\n",
        "            output_list = []\n",
        "\n",
        "            for i in range(batch_size):\n",
        "                output = cnn_layer(inputs_np[i], kernel_np, pad=self.padding, step=self.strides)\n",
        "                output_list.append(output)\n",
        "\n",
        "            return np.array(output_list, dtype=np.float32)  # Convert back to NumPy array\n",
        "\n",
        "        # Use tf.py_function to execute NumPy-based convolution in TensorFlow\n",
        "        output = tf.py_function(func=numpy_convolution, inp=[inputs, self.kernel], Tout=tf.float32)\n",
        "\n",
        "        # Calculate output shape based on input shape\n",
        "        batch_size = tf.shape(inputs)[0]\n",
        "        height = (tf.shape(inputs)[1] - self.kernel_size + 2 * self.padding) // self.strides + 1\n",
        "        width = (tf.shape(inputs)[2] - self.kernel_size + 2 * self.padding) // self.strides + 1\n",
        "\n",
        "        # Ensure proper shape so Flatten() can work\n",
        "        output = tf.reshape(output, (batch_size, height, width, self.filters))\n",
        "\n",
        "        return output\n",
        "\n",
        "# **Define a predefined 3x3 kernel (Example: Edge Detection)**\n",
        "predefined_kernel = np.array([\n",
        "    [[[1]], [[0]], [[0]]],\n",
        "    [[[0]], [[ 1]], [[0]]],\n",
        "    [[[0]], [[0]], [[1]]]\n",
        "], dtype=np.float32)  # Shape: (3, 3, 1)\n",
        "\n",
        "# Expand dimensions to match expected shape (filters, kernel_size, kernel_size, input_channels)\n",
        "predefined_kernel = np.expand_dims(predefined_kernel, axis=0)  # Add filters dimension\n",
        "\n"
      ]
    },
    {
      "cell_type": "code",
      "execution_count": null,
      "metadata": {
        "colab": {
          "base_uri": "https://localhost:8080/",
          "height": 324
        },
        "id": "M4nf0Hkgkw5q",
        "outputId": "1515b2e7-d1c3-4bca-b9f1-37793a2610c8"
      },
      "outputs": [
        {
          "data": {
            "text/html": [
              "<pre style=\"white-space:pre;overflow-x:auto;line-height:normal;font-family:Menlo,'DejaVu Sans Mono',consolas,'Courier New',monospace\"><span style=\"font-weight: bold\">Model: \"sequential_20\"</span>\n",
              "</pre>\n"
            ],
            "text/plain": [
              "\u001b[1mModel: \"sequential_20\"\u001b[0m\n"
            ]
          },
          "metadata": {},
          "output_type": "display_data"
        },
        {
          "data": {
            "text/html": [
              "<pre style=\"white-space:pre;overflow-x:auto;line-height:normal;font-family:Menlo,'DejaVu Sans Mono',consolas,'Courier New',monospace\">┏━━━━━━━━━━━━━━━━━━━━━━━━━━━━━━━━━━━━━━┳━━━━━━━━━━━━━━━━━━━━━━━━━━━━━┳━━━━━━━━━━━━━━━━━┓\n",
              "┃<span style=\"font-weight: bold\"> Layer (type)                         </span>┃<span style=\"font-weight: bold\"> Output Shape                </span>┃<span style=\"font-weight: bold\">         Param # </span>┃\n",
              "┡━━━━━━━━━━━━━━━━━━━━━━━━━━━━━━━━━━━━━━╇━━━━━━━━━━━━━━━━━━━━━━━━━━━━━╇━━━━━━━━━━━━━━━━━┩\n",
              "│ custom_conv2d_12 (<span style=\"color: #0087ff; text-decoration-color: #0087ff\">CustomConv2D</span>)      │ (<span style=\"color: #00d7ff; text-decoration-color: #00d7ff\">None</span>, <span style=\"color: #00af00; text-decoration-color: #00af00\">28</span>, <span style=\"color: #00af00; text-decoration-color: #00af00\">28</span>, <span style=\"color: #00af00; text-decoration-color: #00af00\">1</span>)           │               <span style=\"color: #00af00; text-decoration-color: #00af00\">9</span> │\n",
              "├──────────────────────────────────────┼─────────────────────────────┼─────────────────┤\n",
              "│ re_lu_8 (<span style=\"color: #0087ff; text-decoration-color: #0087ff\">ReLU</span>)                       │ (<span style=\"color: #00d7ff; text-decoration-color: #00d7ff\">None</span>, <span style=\"color: #00af00; text-decoration-color: #00af00\">28</span>, <span style=\"color: #00af00; text-decoration-color: #00af00\">28</span>, <span style=\"color: #00af00; text-decoration-color: #00af00\">1</span>)           │               <span style=\"color: #00af00; text-decoration-color: #00af00\">0</span> │\n",
              "├──────────────────────────────────────┼─────────────────────────────┼─────────────────┤\n",
              "│ max_pooling2d_20 (<span style=\"color: #0087ff; text-decoration-color: #0087ff\">MaxPooling2D</span>)      │ (<span style=\"color: #00d7ff; text-decoration-color: #00d7ff\">None</span>, <span style=\"color: #00af00; text-decoration-color: #00af00\">14</span>, <span style=\"color: #00af00; text-decoration-color: #00af00\">14</span>, <span style=\"color: #00af00; text-decoration-color: #00af00\">1</span>)           │               <span style=\"color: #00af00; text-decoration-color: #00af00\">0</span> │\n",
              "├──────────────────────────────────────┼─────────────────────────────┼─────────────────┤\n",
              "│ flatten_20 (<span style=\"color: #0087ff; text-decoration-color: #0087ff\">Flatten</span>)                 │ (<span style=\"color: #00d7ff; text-decoration-color: #00d7ff\">None</span>, <span style=\"color: #00af00; text-decoration-color: #00af00\">196</span>)                 │               <span style=\"color: #00af00; text-decoration-color: #00af00\">0</span> │\n",
              "├──────────────────────────────────────┼─────────────────────────────┼─────────────────┤\n",
              "│ dense_40 (<span style=\"color: #0087ff; text-decoration-color: #0087ff\">Dense</span>)                     │ (<span style=\"color: #00d7ff; text-decoration-color: #00d7ff\">None</span>, <span style=\"color: #00af00; text-decoration-color: #00af00\">128</span>)                 │          <span style=\"color: #00af00; text-decoration-color: #00af00\">25,216</span> │\n",
              "├──────────────────────────────────────┼─────────────────────────────┼─────────────────┤\n",
              "│ dense_41 (<span style=\"color: #0087ff; text-decoration-color: #0087ff\">Dense</span>)                     │ (<span style=\"color: #00d7ff; text-decoration-color: #00d7ff\">None</span>, <span style=\"color: #00af00; text-decoration-color: #00af00\">10</span>)                  │           <span style=\"color: #00af00; text-decoration-color: #00af00\">1,290</span> │\n",
              "└──────────────────────────────────────┴─────────────────────────────┴─────────────────┘\n",
              "</pre>\n"
            ],
            "text/plain": [
              "┏━━━━━━━━━━━━━━━━━━━━━━━━━━━━━━━━━━━━━━┳━━━━━━━━━━━━━━━━━━━━━━━━━━━━━┳━━━━━━━━━━━━━━━━━┓\n",
              "┃\u001b[1m \u001b[0m\u001b[1mLayer (type)                        \u001b[0m\u001b[1m \u001b[0m┃\u001b[1m \u001b[0m\u001b[1mOutput Shape               \u001b[0m\u001b[1m \u001b[0m┃\u001b[1m \u001b[0m\u001b[1m        Param #\u001b[0m\u001b[1m \u001b[0m┃\n",
              "┡━━━━━━━━━━━━━━━━━━━━━━━━━━━━━━━━━━━━━━╇━━━━━━━━━━━━━━━━━━━━━━━━━━━━━╇━━━━━━━━━━━━━━━━━┩\n",
              "│ custom_conv2d_12 (\u001b[38;5;33mCustomConv2D\u001b[0m)      │ (\u001b[38;5;45mNone\u001b[0m, \u001b[38;5;34m28\u001b[0m, \u001b[38;5;34m28\u001b[0m, \u001b[38;5;34m1\u001b[0m)           │               \u001b[38;5;34m9\u001b[0m │\n",
              "├──────────────────────────────────────┼─────────────────────────────┼─────────────────┤\n",
              "│ re_lu_8 (\u001b[38;5;33mReLU\u001b[0m)                       │ (\u001b[38;5;45mNone\u001b[0m, \u001b[38;5;34m28\u001b[0m, \u001b[38;5;34m28\u001b[0m, \u001b[38;5;34m1\u001b[0m)           │               \u001b[38;5;34m0\u001b[0m │\n",
              "├──────────────────────────────────────┼─────────────────────────────┼─────────────────┤\n",
              "│ max_pooling2d_20 (\u001b[38;5;33mMaxPooling2D\u001b[0m)      │ (\u001b[38;5;45mNone\u001b[0m, \u001b[38;5;34m14\u001b[0m, \u001b[38;5;34m14\u001b[0m, \u001b[38;5;34m1\u001b[0m)           │               \u001b[38;5;34m0\u001b[0m │\n",
              "├──────────────────────────────────────┼─────────────────────────────┼─────────────────┤\n",
              "│ flatten_20 (\u001b[38;5;33mFlatten\u001b[0m)                 │ (\u001b[38;5;45mNone\u001b[0m, \u001b[38;5;34m196\u001b[0m)                 │               \u001b[38;5;34m0\u001b[0m │\n",
              "├──────────────────────────────────────┼─────────────────────────────┼─────────────────┤\n",
              "│ dense_40 (\u001b[38;5;33mDense\u001b[0m)                     │ (\u001b[38;5;45mNone\u001b[0m, \u001b[38;5;34m128\u001b[0m)                 │          \u001b[38;5;34m25,216\u001b[0m │\n",
              "├──────────────────────────────────────┼─────────────────────────────┼─────────────────┤\n",
              "│ dense_41 (\u001b[38;5;33mDense\u001b[0m)                     │ (\u001b[38;5;45mNone\u001b[0m, \u001b[38;5;34m10\u001b[0m)                  │           \u001b[38;5;34m1,290\u001b[0m │\n",
              "└──────────────────────────────────────┴─────────────────────────────┴─────────────────┘\n"
            ]
          },
          "metadata": {},
          "output_type": "display_data"
        },
        {
          "data": {
            "text/html": [
              "<pre style=\"white-space:pre;overflow-x:auto;line-height:normal;font-family:Menlo,'DejaVu Sans Mono',consolas,'Courier New',monospace\"><span style=\"font-weight: bold\"> Total params: </span><span style=\"color: #00af00; text-decoration-color: #00af00\">26,515</span> (103.57 KB)\n",
              "</pre>\n"
            ],
            "text/plain": [
              "\u001b[1m Total params: \u001b[0m\u001b[38;5;34m26,515\u001b[0m (103.57 KB)\n"
            ]
          },
          "metadata": {},
          "output_type": "display_data"
        },
        {
          "data": {
            "text/html": [
              "<pre style=\"white-space:pre;overflow-x:auto;line-height:normal;font-family:Menlo,'DejaVu Sans Mono',consolas,'Courier New',monospace\"><span style=\"font-weight: bold\"> Trainable params: </span><span style=\"color: #00af00; text-decoration-color: #00af00\">26,515</span> (103.57 KB)\n",
              "</pre>\n"
            ],
            "text/plain": [
              "\u001b[1m Trainable params: \u001b[0m\u001b[38;5;34m26,515\u001b[0m (103.57 KB)\n"
            ]
          },
          "metadata": {},
          "output_type": "display_data"
        },
        {
          "data": {
            "text/html": [
              "<pre style=\"white-space:pre;overflow-x:auto;line-height:normal;font-family:Menlo,'DejaVu Sans Mono',consolas,'Courier New',monospace\"><span style=\"font-weight: bold\"> Non-trainable params: </span><span style=\"color: #00af00; text-decoration-color: #00af00\">0</span> (0.00 B)\n",
              "</pre>\n"
            ],
            "text/plain": [
              "\u001b[1m Non-trainable params: \u001b[0m\u001b[38;5;34m0\u001b[0m (0.00 B)\n"
            ]
          },
          "metadata": {},
          "output_type": "display_data"
        }
      ],
      "source": [
        "# **Using the custom layer in a Keras model**\n",
        "model_apprx = keras.Sequential([\n",
        "    layers.Input(shape=(28, 28, 1)),\n",
        "    CustomConv2D(filters=1, kernel_size=3, strides=1, padding=1, predefined_kernel=predefined_kernel),  # Using predefined kernel\n",
        "    layers.ReLU(),\n",
        "    layers.MaxPooling2D((2, 2)),\n",
        "\n",
        "    layers.Flatten(),\n",
        "    layers.Dense(128, activation='relu'),\n",
        "    layers.Dense(10, activation='softmax')\n",
        "])\n",
        "\n",
        "# Print model summary\n",
        "model_apprx.summary()"
      ]
    },
    {
      "cell_type": "code",
      "execution_count": null,
      "metadata": {
        "id": "8A6j2q86j7eh"
      },
      "outputs": [],
      "source": [
        "# model_apprx = keras.Sequential([\n",
        "#     CustomConv2D(filters=1, kernel_size=3, strides=1, padding=1, predefined_kernel=predefined_kernel),  # Using predefined kernel\n",
        "#     layers.MaxPooling2D(2, 2),\n",
        "#     layers.Flatten(),\n",
        "#     layers.Dense(128, activation='relu'),\n",
        "#     layers.Dense(10, activation='softmax')\n",
        "# ])\n",
        "\n",
        "# model_apprx.summary()"
      ]
    },
    {
      "cell_type": "code",
      "execution_count": null,
      "metadata": {
        "colab": {
          "background_save": true,
          "base_uri": "https://localhost:8080/"
        },
        "id": "XFeT_QFgkMeC",
        "outputId": "df9dcca0-7cfc-4622-acd3-6f0482642a1a"
      },
      "outputs": [
        {
          "name": "stdout",
          "output_type": "stream",
          "text": [
            "Epoch 1/5\n",
            "\u001b[1m1466/1875\u001b[0m \u001b[32m━━━━━━━━━━━━━━━\u001b[0m\u001b[37m━━━━━\u001b[0m \u001b[1m16:43\u001b[0m 2s/step - accuracy: 0.7789 - loss: 86.1100"
          ]
        }
      ],
      "source": [
        "model_apprx.compile(optimizer='adam',\n",
        "              loss='sparse_categorical_crossentropy',\n",
        "              metrics=['accuracy'])\n",
        "\n",
        "history = model_apprx.fit(X_train, y_train, epochs=5, validation_data=(X_test, y_test))\n",
        "\n",
        "test_loss, test_acc = model_apprx.evaluate(X_test, y_test)\n",
        "print(f'Test Accuracy: {test_acc * 100:.2f}%')"
      ]
    },
    {
      "cell_type": "markdown",
      "metadata": {
        "id": "7Oi1iTKSQEZ1"
      },
      "source": []
    },
    {
      "cell_type": "code",
      "execution_count": null,
      "metadata": {
        "id": "TOFKRMeelqwC"
      },
      "outputs": [],
      "source": [
        "# model_apprx.compile(optimizer='adam',\n",
        "#               loss='sparse_categorical_crossentropy',\n",
        "#               metrics=['accuracy'])\n",
        "\n",
        "# model_apprx.fit(X_train, y_train, epochs=5)"
      ]
    },
    {
      "cell_type": "code",
      "execution_count": null,
      "metadata": {
        "colab": {
          "base_uri": "https://localhost:8080/"
        },
        "id": "G51PwKrzT_CH",
        "outputId": "687b474e-e6f2-4cea-c60b-e1eed9990c1c"
      },
      "outputs": [
        {
          "name": "stdout",
          "output_type": "stream",
          "text": [
            "\u001b[1m13/13\u001b[0m \u001b[32m━━━━━━━━━━━━━━━━━━━━\u001b[0m\u001b[37m\u001b[0m \u001b[1m33s\u001b[0m 2s/step - accuracy: 0.8862 - loss: 27.1776\n",
            "Test Accuracy: 85.25%\n"
          ]
        }
      ],
      "source": [
        "test_loss, test_accuracy = model_apprx.evaluate(X_test, y_test)\n",
        "print(f\"Test Accuracy: {test_accuracy * 100:.2f}%\")\n"
      ]
    },
    {
      "cell_type": "code",
      "execution_count": null,
      "metadata": {
        "colab": {
          "base_uri": "https://localhost:8080/",
          "height": 540
        },
        "id": "M6J3bWFvUHO3",
        "outputId": "ed829336-ff03-4b0f-8ddb-18a9e02d9d45"
      },
      "outputs": [
        {
          "data": {
            "image/png": "[encoded data removed]",
            "text/plain": [
              "<Figure size 640x480 with 1 Axes>"
            ]
          },
          "metadata": {},
          "output_type": "display_data"
        },
        {
          "name": "stderr",
          "output_type": "stream",
          "text": [
            "WARNING:tensorflow:5 out of the last 9 calls to <function TensorFlowTrainer.make_predict_function.<locals>.one_step_on_data_distributed at 0x79325432b600> triggered tf.function retracing. Tracing is expensive and the excessive number of tracings could be due to (1) creating @tf.function repeatedly in a loop, (2) passing tensors with different shapes, (3) passing Python objects instead of tensors. For (1), please define your @tf.function outside of the loop. For (2), @tf.function has reduce_retracing=True option that can avoid unnecessary retracing. For (3), please refer to https://www.tensorflow.org/guide/function#controlling_retracing and https://www.tensorflow.org/api_docs/python/tf/function for  more details.\n"
          ]
        },
        {
          "name": "stdout",
          "output_type": "stream",
          "text": [
            "\u001b[1m1/1\u001b[0m \u001b[32m━━━━━━━━━━━━━━━━━━━━\u001b[0m\u001b[37m\u001b[0m \u001b[1m0s\u001b[0m 189ms/step\n",
            "Predicted Digit: 4\n",
            "Actual Label: 4\n",
            "Confidence: 100.00%\n"
          ]
        }
      ],
      "source": [
        "test_img_value = 56\n",
        "image = X_test[test_img_value]\n",
        "\n",
        "# Display the selected image\n",
        "plt.imshow(image.squeeze(), cmap='gray')\n",
        "plt.show()\n",
        "\n",
        "# Reshape the image for prediction (CNN expects batch dimension)\n",
        "image = image.reshape(1, 28, 28, 1)  # Add batch dimension\n",
        "\n",
        "# Predict the class\n",
        "predicted_label = model.predict(image)\n",
        "predicted_digit = np.argmax(predicted_label)  # Get the class with highest probability\n",
        "confidence = np.max(predicted_label) * 100\n",
        "\n",
        "print(f\"Predicted Digit: {predicted_digit}\")\n",
        "print(f\"Actual Label: {y_test[test_img_value]}\")\n",
        "print(f\"Confidence: {confidence:.2f}%\")\n"
      ]
    }
  ],
  "metadata": {
    "colab": {
      "provenance": [],
      "include_colab_link": true
    },
    "kernelspec": {
      "display_name": "Python 3",
      "name": "python3"
    },
    "language_info": {
      "name": "python"
    }
  },
  "nbformat": 4,
  "nbformat_minor": 0
}